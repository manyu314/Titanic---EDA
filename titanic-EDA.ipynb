{
 "cells": [
  {
   "cell_type": "code",
   "execution_count": 1,
   "metadata": {
    "_cell_guid": "b1076dfc-b9ad-4769-8c92-a6c4dae69d19",
    "_uuid": "8f2839f25d086af736a60e9eeb907d3b93b6e0e5",
    "execution": {
     "iopub.execute_input": "2021-06-21T07:08:29.520578Z",
     "iopub.status.busy": "2021-06-21T07:08:29.519214Z",
     "iopub.status.idle": "2021-06-21T07:08:30.398327Z",
     "shell.execute_reply": "2021-06-21T07:08:30.398851Z",
     "shell.execute_reply.started": "2021-06-21T07:07:25.283387Z"
    },
    "papermill": {
     "duration": 0.917726,
     "end_time": "2021-06-21T07:08:30.399193",
     "exception": false,
     "start_time": "2021-06-21T07:08:29.481467",
     "status": "completed"
    },
    "tags": []
   },
   "outputs": [],
   "source": [
    "import numpy as np \n",
    "import pandas as pd \n",
    "\n",
    "# visualization\n",
    "import matplotlib.pyplot as plt\n",
    "import seaborn as sns"
   ]
  },
  {
   "cell_type": "code",
   "execution_count": 2,
   "metadata": {
    "execution": {
     "iopub.execute_input": "2021-06-21T07:08:30.469299Z",
     "iopub.status.busy": "2021-06-21T07:08:30.468464Z",
     "iopub.status.idle": "2021-06-21T07:08:30.499462Z",
     "shell.execute_reply": "2021-06-21T07:08:30.497998Z",
     "shell.execute_reply.started": "2021-06-21T07:07:25.296563Z"
    },
    "papermill": {
     "duration": 0.067956,
     "end_time": "2021-06-21T07:08:30.499656",
     "exception": false,
     "start_time": "2021-06-21T07:08:30.431700",
     "status": "completed"
    },
    "tags": []
   },
   "outputs": [],
   "source": [
    "# getting train data\n",
    "train = pd.read_csv('train.csv')"
   ]
  },
  {
   "cell_type": "code",
   "execution_count": 3,
   "metadata": {
    "execution": {
     "iopub.execute_input": "2021-06-21T07:08:30.575587Z",
     "iopub.status.busy": "2021-06-21T07:08:30.574886Z",
     "iopub.status.idle": "2021-06-21T07:08:30.599134Z",
     "shell.execute_reply": "2021-06-21T07:08:30.599628Z",
     "shell.execute_reply.started": "2021-06-21T07:07:25.320198Z"
    },
    "papermill": {
     "duration": 0.068101,
     "end_time": "2021-06-21T07:08:30.599831",
     "exception": false,
     "start_time": "2021-06-21T07:08:30.531730",
     "status": "completed"
    },
    "tags": []
   },
   "outputs": [
    {
     "data": {
      "text/html": [
       "<div>\n",
       "<style scoped>\n",
       "    .dataframe tbody tr th:only-of-type {\n",
       "        vertical-align: middle;\n",
       "    }\n",
       "\n",
       "    .dataframe tbody tr th {\n",
       "        vertical-align: top;\n",
       "    }\n",
       "\n",
       "    .dataframe thead th {\n",
       "        text-align: right;\n",
       "    }\n",
       "</style>\n",
       "<table border=\"1\" class=\"dataframe\">\n",
       "  <thead>\n",
       "    <tr style=\"text-align: right;\">\n",
       "      <th></th>\n",
       "      <th>PassengerId</th>\n",
       "      <th>Survived</th>\n",
       "      <th>Pclass</th>\n",
       "      <th>Name</th>\n",
       "      <th>Sex</th>\n",
       "      <th>Age</th>\n",
       "      <th>SibSp</th>\n",
       "      <th>Parch</th>\n",
       "      <th>Ticket</th>\n",
       "      <th>Fare</th>\n",
       "      <th>Cabin</th>\n",
       "      <th>Embarked</th>\n",
       "    </tr>\n",
       "  </thead>\n",
       "  <tbody>\n",
       "    <tr>\n",
       "      <th>0</th>\n",
       "      <td>1</td>\n",
       "      <td>0</td>\n",
       "      <td>3</td>\n",
       "      <td>Braund, Mr. Owen Harris</td>\n",
       "      <td>male</td>\n",
       "      <td>22.0</td>\n",
       "      <td>1</td>\n",
       "      <td>0</td>\n",
       "      <td>A/5 21171</td>\n",
       "      <td>7.2500</td>\n",
       "      <td>NaN</td>\n",
       "      <td>S</td>\n",
       "    </tr>\n",
       "    <tr>\n",
       "      <th>1</th>\n",
       "      <td>2</td>\n",
       "      <td>1</td>\n",
       "      <td>1</td>\n",
       "      <td>Cumings, Mrs. John Bradley (Florence Briggs Th...</td>\n",
       "      <td>female</td>\n",
       "      <td>38.0</td>\n",
       "      <td>1</td>\n",
       "      <td>0</td>\n",
       "      <td>PC 17599</td>\n",
       "      <td>71.2833</td>\n",
       "      <td>C85</td>\n",
       "      <td>C</td>\n",
       "    </tr>\n",
       "    <tr>\n",
       "      <th>2</th>\n",
       "      <td>3</td>\n",
       "      <td>1</td>\n",
       "      <td>3</td>\n",
       "      <td>Heikkinen, Miss. Laina</td>\n",
       "      <td>female</td>\n",
       "      <td>26.0</td>\n",
       "      <td>0</td>\n",
       "      <td>0</td>\n",
       "      <td>STON/O2. 3101282</td>\n",
       "      <td>7.9250</td>\n",
       "      <td>NaN</td>\n",
       "      <td>S</td>\n",
       "    </tr>\n",
       "    <tr>\n",
       "      <th>3</th>\n",
       "      <td>4</td>\n",
       "      <td>1</td>\n",
       "      <td>1</td>\n",
       "      <td>Futrelle, Mrs. Jacques Heath (Lily May Peel)</td>\n",
       "      <td>female</td>\n",
       "      <td>35.0</td>\n",
       "      <td>1</td>\n",
       "      <td>0</td>\n",
       "      <td>113803</td>\n",
       "      <td>53.1000</td>\n",
       "      <td>C123</td>\n",
       "      <td>S</td>\n",
       "    </tr>\n",
       "    <tr>\n",
       "      <th>4</th>\n",
       "      <td>5</td>\n",
       "      <td>0</td>\n",
       "      <td>3</td>\n",
       "      <td>Allen, Mr. William Henry</td>\n",
       "      <td>male</td>\n",
       "      <td>35.0</td>\n",
       "      <td>0</td>\n",
       "      <td>0</td>\n",
       "      <td>373450</td>\n",
       "      <td>8.0500</td>\n",
       "      <td>NaN</td>\n",
       "      <td>S</td>\n",
       "    </tr>\n",
       "  </tbody>\n",
       "</table>\n",
       "</div>"
      ],
      "text/plain": [
       "   PassengerId  Survived  Pclass  \\\n",
       "0            1         0       3   \n",
       "1            2         1       1   \n",
       "2            3         1       3   \n",
       "3            4         1       1   \n",
       "4            5         0       3   \n",
       "\n",
       "                                                Name     Sex   Age  SibSp  \\\n",
       "0                            Braund, Mr. Owen Harris    male  22.0      1   \n",
       "1  Cumings, Mrs. John Bradley (Florence Briggs Th...  female  38.0      1   \n",
       "2                             Heikkinen, Miss. Laina  female  26.0      0   \n",
       "3       Futrelle, Mrs. Jacques Heath (Lily May Peel)  female  35.0      1   \n",
       "4                           Allen, Mr. William Henry    male  35.0      0   \n",
       "\n",
       "   Parch            Ticket     Fare Cabin Embarked  \n",
       "0      0         A/5 21171   7.2500   NaN        S  \n",
       "1      0          PC 17599  71.2833   C85        C  \n",
       "2      0  STON/O2. 3101282   7.9250   NaN        S  \n",
       "3      0            113803  53.1000  C123        S  \n",
       "4      0            373450   8.0500   NaN        S  "
      ]
     },
     "execution_count": 3,
     "metadata": {},
     "output_type": "execute_result"
    }
   ],
   "source": [
    "train.head()"
   ]
  },
  {
   "cell_type": "code",
   "execution_count": 4,
   "metadata": {
    "execution": {
     "iopub.execute_input": "2021-06-21T07:08:30.668112Z",
     "iopub.status.busy": "2021-06-21T07:08:30.667489Z",
     "iopub.status.idle": "2021-06-21T07:08:30.678472Z",
     "shell.execute_reply": "2021-06-21T07:08:30.677145Z",
     "shell.execute_reply.started": "2021-06-21T07:07:25.343474Z"
    },
    "papermill": {
     "duration": 0.04621,
     "end_time": "2021-06-21T07:08:30.678657",
     "exception": false,
     "start_time": "2021-06-21T07:08:30.632447",
     "status": "completed"
    },
    "tags": []
   },
   "outputs": [],
   "source": [
    "# As Name of the passenger,Ticket and Fare are not needed to create model\n",
    "# We will drop the three columns Name,Ticket and Fare from train data\n",
    "train.drop(['Name','Ticket','Fare'],axis = 1,inplace=True)"
   ]
  },
  {
   "cell_type": "code",
   "execution_count": 5,
   "metadata": {
    "execution": {
     "iopub.execute_input": "2021-06-21T07:08:30.754096Z",
     "iopub.status.busy": "2021-06-21T07:08:30.753351Z",
     "iopub.status.idle": "2021-06-21T07:08:30.765184Z",
     "shell.execute_reply": "2021-06-21T07:08:30.765812Z",
     "shell.execute_reply.started": "2021-06-21T07:07:25.355316Z"
    },
    "papermill": {
     "duration": 0.054715,
     "end_time": "2021-06-21T07:08:30.765999",
     "exception": false,
     "start_time": "2021-06-21T07:08:30.711284",
     "status": "completed"
    },
    "tags": []
   },
   "outputs": [
    {
     "name": "stdout",
     "output_type": "stream",
     "text": [
      "<class 'pandas.core.frame.DataFrame'>\n",
      "RangeIndex: 891 entries, 0 to 890\n",
      "Data columns (total 9 columns):\n",
      " #   Column       Non-Null Count  Dtype  \n",
      "---  ------       --------------  -----  \n",
      " 0   PassengerId  891 non-null    int64  \n",
      " 1   Survived     891 non-null    int64  \n",
      " 2   Pclass       891 non-null    int64  \n",
      " 3   Sex          891 non-null    object \n",
      " 4   Age          714 non-null    float64\n",
      " 5   SibSp        891 non-null    int64  \n",
      " 6   Parch        891 non-null    int64  \n",
      " 7   Cabin        204 non-null    object \n",
      " 8   Embarked     889 non-null    object \n",
      "dtypes: float64(1), int64(5), object(3)\n",
      "memory usage: 62.8+ KB\n"
     ]
    }
   ],
   "source": [
    "train.info()"
   ]
  },
  {
   "cell_type": "code",
   "execution_count": 6,
   "metadata": {
    "execution": {
     "iopub.execute_input": "2021-06-21T07:08:30.999989Z",
     "iopub.status.busy": "2021-06-21T07:08:30.999315Z",
     "iopub.status.idle": "2021-06-21T07:08:31.173358Z",
     "shell.execute_reply": "2021-06-21T07:08:31.173901Z",
     "shell.execute_reply.started": "2021-06-21T07:07:25.426630Z"
    },
    "papermill": {
     "duration": 0.211875,
     "end_time": "2021-06-21T07:08:31.174120",
     "exception": false,
     "start_time": "2021-06-21T07:08:30.962245",
     "status": "completed"
    },
    "tags": []
   },
   "outputs": [
    {
     "name": "stdout",
     "output_type": "stream",
     "text": [
      "male      577\n",
      "female    314\n",
      "Name: Sex, dtype: int64\n"
     ]
    },
    {
     "data": {
      "text/plain": [
       "<AxesSubplot:xlabel='Sex', ylabel='count'>"
      ]
     },
     "execution_count": 6,
     "metadata": {},
     "output_type": "execute_result"
    },
    {
     "data": {
      "image/png": "[encoded data removed]",
      "text/plain": [
       "<Figure size 432x288 with 1 Axes>"
      ]
     },
     "metadata": {},
     "output_type": "display_data"
    }
   ],
   "source": [
    "# Lets see how many male and female were there on the ship (train dataset)\n",
    "print(train['Sex'].value_counts())\n",
    "\n",
    "sns.set_style('darkgrid')\n",
    "sns.countplot(x='Sex',data=train)"
   ]
  },
  {
   "cell_type": "markdown",
   "metadata": {
    "papermill": {
     "duration": 0.033849,
     "end_time": "2021-06-21T07:08:31.242490",
     "exception": false,
     "start_time": "2021-06-21T07:08:31.208641",
     "status": "completed"
    },
    "tags": []
   },
   "source": [
    "As we can see above in the graph, majority of passengers in the ship were male"
   ]
  },
  {
   "cell_type": "code",
   "execution_count": 7,
   "metadata": {
    "execution": {
     "iopub.execute_input": "2021-06-21T07:08:31.320598Z",
     "iopub.status.busy": "2021-06-21T07:08:31.319831Z",
     "iopub.status.idle": "2021-06-21T07:08:31.490710Z",
     "shell.execute_reply": "2021-06-21T07:08:31.490135Z",
     "shell.execute_reply.started": "2021-06-21T07:07:25.578711Z"
    },
    "papermill": {
     "duration": 0.213876,
     "end_time": "2021-06-21T07:08:31.490864",
     "exception": false,
     "start_time": "2021-06-21T07:08:31.276988",
     "status": "completed"
    },
    "tags": []
   },
   "outputs": [
    {
     "data": {
      "text/plain": [
       "<AxesSubplot:xlabel='Sex', ylabel='count'>"
      ]
     },
     "execution_count": 7,
     "metadata": {},
     "output_type": "execute_result"
    },
    {
     "data": {
      "image/png": "[encoded data removed]",
      "text/plain": [
       "<Figure size 432x288 with 1 Axes>"
      ]
     },
     "metadata": {},
     "output_type": "display_data"
    }
   ],
   "source": [
    "# Lets see if being a male or female had an impact on survival of the passenger\n",
    "sns.countplot(x='Sex',data=train,hue='Survived')"
   ]
  },
  {
   "cell_type": "markdown",
   "metadata": {
    "papermill": {
     "duration": 0.034897,
     "end_time": "2021-06-21T07:08:31.561373",
     "exception": false,
     "start_time": "2021-06-21T07:08:31.526476",
     "status": "completed"
    },
    "tags": []
   },
   "source": [
    "**As given in the description, if value of Survived is 0 means passenger didn't survived and if the value is 1 it means passenger survived.\n",
    "As shown in the above graph, majority of female survived as compared to male**"
   ]
  },
  {
   "cell_type": "code",
   "execution_count": 8,
   "metadata": {
    "execution": {
     "iopub.execute_input": "2021-06-21T07:08:31.644165Z",
     "iopub.status.busy": "2021-06-21T07:08:31.643429Z",
     "iopub.status.idle": "2021-06-21T07:08:31.648945Z",
     "shell.execute_reply": "2021-06-21T07:08:31.648302Z",
     "shell.execute_reply.started": "2021-06-21T07:07:25.749267Z"
    },
    "papermill": {
     "duration": 0.052619,
     "end_time": "2021-06-21T07:08:31.649118",
     "exception": false,
     "start_time": "2021-06-21T07:08:31.596499",
     "status": "completed"
    },
    "tags": []
   },
   "outputs": [
    {
     "name": "stdout",
     "output_type": "stream",
     "text": [
      "74.2% of female present on the ship survived\n",
      "18.89% of male present on the ship survived\n"
     ]
    }
   ],
   "source": [
    "# Lets see what percentage of female and male survived\n",
    "female_survivor = np.round((len(train[(train['Sex']=='female') & (train['Survived']==1)])/len(train[train['Sex']=='female']))*100,2)\n",
    "male_survivor = np.round((len(train[(train['Sex']=='male') & (train['Survived']==1)])/len(train[train['Sex']=='male']))*100,2)\n",
    "\n",
    "print(f'{female_survivor}% of female present on the ship survived')\n",
    "print(f'{male_survivor}% of male present on the ship survived')"
   ]
  },
  {
   "cell_type": "markdown",
   "metadata": {
    "papermill": {
     "duration": 0.035243,
     "end_time": "2021-06-21T07:08:31.720274",
     "exception": false,
     "start_time": "2021-06-21T07:08:31.685031",
     "status": "completed"
    },
    "tags": []
   },
   "source": [
    "**Lets check how being in Upper,Middle or Lower class effected the passenger's survival**"
   ]
  },
  {
   "cell_type": "code",
   "execution_count": 9,
   "metadata": {
    "execution": {
     "iopub.execute_input": "2021-06-21T07:08:31.799313Z",
     "iopub.status.busy": "2021-06-21T07:08:31.798592Z",
     "iopub.status.idle": "2021-06-21T07:08:32.038995Z",
     "shell.execute_reply": "2021-06-21T07:08:32.038418Z",
     "shell.execute_reply.started": "2021-06-21T07:07:25.765130Z"
    },
    "papermill": {
     "duration": 0.283314,
     "end_time": "2021-06-21T07:08:32.039180",
     "exception": false,
     "start_time": "2021-06-21T07:08:31.755866",
     "status": "completed"
    },
    "tags": []
   },
   "outputs": [
    {
     "name": "stdout",
     "output_type": "stream",
     "text": [
      "3    491\n",
      "1    216\n",
      "2    184\n",
      "Name: Pclass, dtype: int64\n"
     ]
    },
    {
     "data": {
      "text/plain": [
       "<seaborn.axisgrid.FacetGrid at 0x184d623ed30>"
      ]
     },
     "execution_count": 9,
     "metadata": {},
     "output_type": "execute_result"
    },
    {
     "data": {
      "image/png": "[encoded data removed]",
      "text/plain": [
       "<Figure size 360x360 with 1 Axes>"
      ]
     },
     "metadata": {},
     "output_type": "display_data"
    }
   ],
   "source": [
    "# Lets see the number of passengers from each class:\n",
    "print(train['Pclass'].value_counts())\n",
    "\n",
    "sns.catplot(x='Pclass',data=train,kind='count')"
   ]
  },
  {
   "cell_type": "markdown",
   "metadata": {
    "papermill": {
     "duration": 0.036578,
     "end_time": "2021-06-21T07:08:32.113407",
     "exception": false,
     "start_time": "2021-06-21T07:08:32.076829",
     "status": "completed"
    },
    "tags": []
   },
   "source": [
    "Maximum passenger on the ship belonged to Lower class"
   ]
  },
  {
   "cell_type": "code",
   "execution_count": 10,
   "metadata": {
    "execution": {
     "iopub.execute_input": "2021-06-21T07:08:32.204841Z",
     "iopub.status.busy": "2021-06-21T07:08:32.203745Z",
     "iopub.status.idle": "2021-06-21T07:08:32.556391Z",
     "shell.execute_reply": "2021-06-21T07:08:32.555854Z",
     "shell.execute_reply.started": "2021-06-21T07:07:26.059305Z"
    },
    "papermill": {
     "duration": 0.406195,
     "end_time": "2021-06-21T07:08:32.556561",
     "exception": false,
     "start_time": "2021-06-21T07:08:32.150366",
     "status": "completed"
    },
    "tags": []
   },
   "outputs": [
    {
     "name": "stdout",
     "output_type": "stream",
     "text": [
      "62.96% of passenger from Upper class survived\n",
      "47.28% of passenger from Middle class survived\n",
      "24.24% of passenger from Lower class survived\n"
     ]
    },
    {
     "data": {
      "text/plain": [
       "<seaborn.axisgrid.FacetGrid at 0x184d62a9580>"
      ]
     },
     "execution_count": 10,
     "metadata": {},
     "output_type": "execute_result"
    },
    {
     "data": {
      "image/png": "[encoded data removed]",
      "text/plain": [
       "<Figure size 407x360 with 1 Axes>"
      ]
     },
     "metadata": {},
     "output_type": "display_data"
    }
   ],
   "source": [
    "class_1_survived = np.round(len(train[(train['Pclass']==1) & (train['Survived']==1)])/len(train[train['Pclass']==1])*100,2)\n",
    "class_2_survived = np.round(len(train[(train['Pclass']==2) & (train['Survived']==1)])/len(train[train['Pclass']==2])*100,2)\n",
    "class_3_survived = np.round(len(train[(train['Pclass']==3) & (train['Survived']==1)])/len(train[train['Pclass']==3])*100,2)\n",
    "\n",
    "print(f'{class_1_survived}% of passenger from Upper class survived')\n",
    "print(f'{class_2_survived}% of passenger from Middle class survived')\n",
    "print(f'{class_3_survived}% of passenger from Lower class survived')\n",
    "\n",
    "sns.set_style('darkgrid')\n",
    "sns.catplot(x='Pclass',data=train,hue='Survived',kind='count')"
   ]
  },
  {
   "cell_type": "markdown",
   "metadata": {
    "papermill": {
     "duration": 0.038158,
     "end_time": "2021-06-21T07:08:32.634049",
     "exception": false,
     "start_time": "2021-06-21T07:08:32.595891",
     "status": "completed"
    },
    "tags": []
   },
   "source": [
    "Clearly, most of the upper class passengers survived"
   ]
  },
  {
   "cell_type": "markdown",
   "metadata": {
    "papermill": {
     "duration": 0.038107,
     "end_time": "2021-06-21T07:08:32.710930",
     "exception": false,
     "start_time": "2021-06-21T07:08:32.672823",
     "status": "completed"
    },
    "tags": []
   },
   "source": [
    "* Lets explore the SibSp and Parch column which basically tells us whether passenger were alone or with there family.\n",
    "* SibSp tells about Sibling and Spouse\n",
    "* Parch tells about Parents and Child\n",
    "* If any of the value is 1 then it means passenger was with his/her family"
   ]
  },
  {
   "cell_type": "code",
   "execution_count": 11,
   "metadata": {
    "execution": {
     "iopub.execute_input": "2021-06-21T07:08:32.797120Z",
     "iopub.status.busy": "2021-06-21T07:08:32.796242Z",
     "iopub.status.idle": "2021-06-21T07:08:32.800487Z",
     "shell.execute_reply": "2021-06-21T07:08:32.799968Z",
     "shell.execute_reply.started": "2021-06-21T07:07:26.512434Z"
    },
    "papermill": {
     "duration": 0.051074,
     "end_time": "2021-06-21T07:08:32.800675",
     "exception": false,
     "start_time": "2021-06-21T07:08:32.749601",
     "status": "completed"
    },
    "tags": []
   },
   "outputs": [
    {
     "data": {
      "text/plain": [
       "0    608\n",
       "1    209\n",
       "2     28\n",
       "4     18\n",
       "3     16\n",
       "8      7\n",
       "5      5\n",
       "Name: SibSp, dtype: int64"
      ]
     },
     "execution_count": 11,
     "metadata": {},
     "output_type": "execute_result"
    }
   ],
   "source": [
    "train['SibSp'].value_counts()"
   ]
  },
  {
   "cell_type": "code",
   "execution_count": 12,
   "metadata": {
    "execution": {
     "iopub.execute_input": "2021-06-21T07:08:32.888486Z",
     "iopub.status.busy": "2021-06-21T07:08:32.887457Z",
     "iopub.status.idle": "2021-06-21T07:08:32.892419Z",
     "shell.execute_reply": "2021-06-21T07:08:32.891887Z",
     "shell.execute_reply.started": "2021-06-21T07:07:26.522251Z"
    },
    "papermill": {
     "duration": 0.052905,
     "end_time": "2021-06-21T07:08:32.892608",
     "exception": false,
     "start_time": "2021-06-21T07:08:32.839703",
     "status": "completed"
    },
    "tags": []
   },
   "outputs": [
    {
     "data": {
      "text/plain": [
       "0    678\n",
       "1    118\n",
       "2     80\n",
       "5      5\n",
       "3      5\n",
       "4      4\n",
       "6      1\n",
       "Name: Parch, dtype: int64"
      ]
     },
     "execution_count": 12,
     "metadata": {},
     "output_type": "execute_result"
    }
   ],
   "source": [
    "train['Parch'].value_counts()"
   ]
  },
  {
   "cell_type": "code",
   "execution_count": 13,
   "metadata": {
    "execution": {
     "iopub.execute_input": "2021-06-21T07:08:32.981065Z",
     "iopub.status.busy": "2021-06-21T07:08:32.980231Z",
     "iopub.status.idle": "2021-06-21T07:08:32.989913Z",
     "shell.execute_reply": "2021-06-21T07:08:32.989277Z",
     "shell.execute_reply.started": "2021-06-21T07:07:26.539045Z"
    },
    "papermill": {
     "duration": 0.057874,
     "end_time": "2021-06-21T07:08:32.990073",
     "exception": false,
     "start_time": "2021-06-21T07:08:32.932199",
     "status": "completed"
    },
    "tags": []
   },
   "outputs": [
    {
     "name": "stderr",
     "output_type": "stream",
     "text": [
      "C:\\Users\\Abhimanyu\\anaconda3\\lib\\site-packages\\pandas\\core\\indexing.py:670: SettingWithCopyWarning: \n",
      "A value is trying to be set on a copy of a slice from a DataFrame\n",
      "\n",
      "See the caveats in the documentation: https://pandas.pydata.org/pandas-docs/stable/user_guide/indexing.html#returning-a-view-versus-a-copy\n",
      "  iloc._setitem_with_indexer(indexer, value)\n"
     ]
    }
   ],
   "source": [
    "# We can combine both the columns to make a new column 'Family' which will tell us if the passenger was alone or with family\n",
    "\n",
    "train['Family'] = train['SibSp']+train['Parch']\n",
    "\n",
    "train['Family'].loc[train['Family']>0]='With Family'\n",
    "train['Family'].loc[train['Family']==0] ='Alone'"
   ]
  },
  {
   "cell_type": "code",
   "execution_count": 14,
   "metadata": {
    "execution": {
     "iopub.execute_input": "2021-06-21T07:08:33.080477Z",
     "iopub.status.busy": "2021-06-21T07:08:33.078963Z",
     "iopub.status.idle": "2021-06-21T07:08:33.207078Z",
     "shell.execute_reply": "2021-06-21T07:08:33.206469Z",
     "shell.execute_reply.started": "2021-06-21T07:07:26.562127Z"
    },
    "papermill": {
     "duration": 0.177845,
     "end_time": "2021-06-21T07:08:33.207246",
     "exception": false,
     "start_time": "2021-06-21T07:08:33.029401",
     "status": "completed"
    },
    "tags": []
   },
   "outputs": [
    {
     "name": "stdout",
     "output_type": "stream",
     "text": [
      "Alone          537\n",
      "With Family    354\n",
      "Name: Family, dtype: int64\n"
     ]
    },
    {
     "data": {
      "text/plain": [
       "<AxesSubplot:xlabel='Family', ylabel='count'>"
      ]
     },
     "execution_count": 14,
     "metadata": {},
     "output_type": "execute_result"
    },
    {
     "data": {
      "image/png": "[encoded data removed]",
      "text/plain": [
       "<Figure size 432x288 with 1 Axes>"
      ]
     },
     "metadata": {},
     "output_type": "display_data"
    }
   ],
   "source": [
    "# Lets explore the Family column\n",
    "print(train['Family'].value_counts())\n",
    "\n",
    "sns.countplot(x='Family',data=train)"
   ]
  },
  {
   "cell_type": "code",
   "execution_count": 15,
   "metadata": {
    "execution": {
     "iopub.execute_input": "2021-06-21T07:08:33.300429Z",
     "iopub.status.busy": "2021-06-21T07:08:33.299346Z",
     "iopub.status.idle": "2021-06-21T07:08:33.468135Z",
     "shell.execute_reply": "2021-06-21T07:08:33.467572Z",
     "shell.execute_reply.started": "2021-06-21T07:07:26.704789Z"
    },
    "papermill": {
     "duration": 0.219098,
     "end_time": "2021-06-21T07:08:33.468300",
     "exception": false,
     "start_time": "2021-06-21T07:08:33.249202",
     "status": "completed"
    },
    "tags": []
   },
   "outputs": [
    {
     "data": {
      "text/plain": [
       "<AxesSubplot:xlabel='Family', ylabel='count'>"
      ]
     },
     "execution_count": 15,
     "metadata": {},
     "output_type": "execute_result"
    },
    {
     "data": {
      "image/png": "[encoded data removed]",
      "text/plain": [
       "<Figure size 432x288 with 1 Axes>"
      ]
     },
     "metadata": {},
     "output_type": "display_data"
    }
   ],
   "source": [
    "# Let see if being with family has any impact on survival of the passenger\n",
    "sns.countplot(x='Family',data=train,hue='Survived')"
   ]
  },
  {
   "cell_type": "code",
   "execution_count": 16,
   "metadata": {
    "execution": {
     "iopub.execute_input": "2021-06-21T07:08:33.593052Z",
     "iopub.status.busy": "2021-06-21T07:08:33.592219Z",
     "iopub.status.idle": "2021-06-21T07:08:33.850282Z",
     "shell.execute_reply": "2021-06-21T07:08:33.849630Z",
     "shell.execute_reply.started": "2021-06-21T07:07:26.881695Z"
    },
    "papermill": {
     "duration": 0.340178,
     "end_time": "2021-06-21T07:08:33.850434",
     "exception": false,
     "start_time": "2021-06-21T07:08:33.510256",
     "status": "completed"
    },
    "tags": []
   },
   "outputs": [
    {
     "data": {
      "text/plain": [
       "<AxesSubplot:xlabel='Age', ylabel='Count'>"
      ]
     },
     "execution_count": 16,
     "metadata": {},
     "output_type": "execute_result"
    },
    {
     "data": {
      "image/png": "[encoded data removed]",
      "text/plain": [
       "<Figure size 432x288 with 1 Axes>"
      ]
     },
     "metadata": {},
     "output_type": "display_data"
    }
   ],
   "source": [
    "# Lets explore the Age column\n",
    "sns.histplot(x='Age',data=train,bins=30)"
   ]
  },
  {
   "cell_type": "markdown",
   "metadata": {
    "papermill": {
     "duration": 0.042795,
     "end_time": "2021-06-21T07:08:33.936088",
     "exception": false,
     "start_time": "2021-06-21T07:08:33.893293",
     "status": "completed"
    },
    "tags": []
   },
   "source": [
    "Most of the passengers were between 20-40 years"
   ]
  },
  {
   "cell_type": "code",
   "execution_count": 17,
   "metadata": {
    "execution": {
     "iopub.execute_input": "2021-06-21T07:08:34.030122Z",
     "iopub.status.busy": "2021-06-21T07:08:34.029244Z",
     "iopub.status.idle": "2021-06-21T07:08:34.033073Z",
     "shell.execute_reply": "2021-06-21T07:08:34.032544Z",
     "shell.execute_reply.started": "2021-06-21T07:07:27.174820Z"
    },
    "papermill": {
     "duration": 0.054451,
     "end_time": "2021-06-21T07:08:34.033221",
     "exception": false,
     "start_time": "2021-06-21T07:08:33.978770",
     "status": "completed"
    },
    "tags": []
   },
   "outputs": [
    {
     "data": {
      "text/plain": [
       "177"
      ]
     },
     "execution_count": 17,
     "metadata": {},
     "output_type": "execute_result"
    }
   ],
   "source": [
    "# Lets check the number of null values in age column\n",
    "train['Age'].isnull().sum()"
   ]
  },
  {
   "cell_type": "code",
   "execution_count": 18,
   "metadata": {
    "execution": {
     "iopub.execute_input": "2021-06-21T07:08:34.132560Z",
     "iopub.status.busy": "2021-06-21T07:08:34.131787Z",
     "iopub.status.idle": "2021-06-21T07:08:34.135040Z",
     "shell.execute_reply": "2021-06-21T07:08:34.134471Z",
     "shell.execute_reply.started": "2021-06-21T07:07:27.185899Z"
    },
    "papermill": {
     "duration": 0.058594,
     "end_time": "2021-06-21T07:08:34.135196",
     "exception": false,
     "start_time": "2021-06-21T07:08:34.076602",
     "status": "completed"
    },
    "tags": []
   },
   "outputs": [],
   "source": [
    "# We can handle these missing values by replacing them with the avg age\n",
    "avg_age = train['Age'].mean()\n",
    "\n",
    "# function to find and replace the null value\n",
    "def change(age):\n",
    "    if np.isnan(age):\n",
    "        return avg_age\n",
    "    return age\n",
    "\n",
    "# applying the change function to update 'Age' column\n",
    "train['Age'] = train['Age'].apply(change)"
   ]
  },
  {
   "cell_type": "code",
   "execution_count": 19,
   "metadata": {
    "execution": {
     "iopub.execute_input": "2021-06-21T07:08:34.230370Z",
     "iopub.status.busy": "2021-06-21T07:08:34.229697Z",
     "iopub.status.idle": "2021-06-21T07:08:34.246515Z",
     "shell.execute_reply": "2021-06-21T07:08:34.245757Z",
     "shell.execute_reply.started": "2021-06-21T07:07:27.203890Z"
    },
    "papermill": {
     "duration": 0.067771,
     "end_time": "2021-06-21T07:08:34.246709",
     "exception": false,
     "start_time": "2021-06-21T07:08:34.178938",
     "status": "completed"
    },
    "tags": []
   },
   "outputs": [],
   "source": [
    "# we can combine the Age and Sex column to create a new column 'Adult' which will tell if the passenger is adult(male or female) or child\n",
    "\n",
    "# function to determine if passenger is male,female,child\n",
    "def combine(passenger):\n",
    "    sex,age = passenger\n",
    "    if age<18:\n",
    "        return 'child'\n",
    "    return sex\n",
    "\n",
    "# using the combine function to create 'Adult' column\n",
    "train['Adult'] = train[['Sex','Age']].apply(combine,axis=1)        "
   ]
  },
  {
   "cell_type": "code",
   "execution_count": 20,
   "metadata": {
    "execution": {
     "iopub.execute_input": "2021-06-21T07:08:34.528855Z",
     "iopub.status.busy": "2021-06-21T07:08:34.343909Z",
     "iopub.status.idle": "2021-06-21T07:08:34.639899Z",
     "shell.execute_reply": "2021-06-21T07:08:34.639222Z",
     "shell.execute_reply.started": "2021-06-21T07:07:27.231651Z"
    },
    "papermill": {
     "duration": 0.349405,
     "end_time": "2021-06-21T07:08:34.640051",
     "exception": false,
     "start_time": "2021-06-21T07:08:34.290646",
     "status": "completed"
    },
    "tags": []
   },
   "outputs": [
    {
     "name": "stdout",
     "output_type": "stream",
     "text": [
      "male      519\n",
      "female    259\n",
      "child     113\n",
      "Name: Adult, dtype: int64\n"
     ]
    },
    {
     "data": {
      "text/plain": [
       "<AxesSubplot:xlabel='Adult', ylabel='count'>"
      ]
     },
     "execution_count": 20,
     "metadata": {},
     "output_type": "execute_result"
    },
    {
     "data": {
      "image/png": "[encoded data removed]",
      "text/plain": [
       "<Figure size 432x288 with 1 Axes>"
      ]
     },
     "metadata": {},
     "output_type": "display_data"
    }
   ],
   "source": [
    "# Lets explore the new column\n",
    "print(train['Adult'].value_counts())\n",
    "\n",
    "sns.countplot(x='Adult',data=train)"
   ]
  },
  {
   "cell_type": "code",
   "execution_count": 21,
   "metadata": {
    "execution": {
     "iopub.execute_input": "2021-06-21T07:08:34.738563Z",
     "iopub.status.busy": "2021-06-21T07:08:34.737475Z",
     "iopub.status.idle": "2021-06-21T07:08:34.904043Z",
     "shell.execute_reply": "2021-06-21T07:08:34.903431Z",
     "shell.execute_reply.started": "2021-06-21T07:07:27.668526Z"
    },
    "papermill": {
     "duration": 0.219798,
     "end_time": "2021-06-21T07:08:34.904203",
     "exception": false,
     "start_time": "2021-06-21T07:08:34.684405",
     "status": "completed"
    },
    "tags": []
   },
   "outputs": [
    {
     "data": {
      "text/plain": [
       "<AxesSubplot:xlabel='Adult', ylabel='count'>"
      ]
     },
     "execution_count": 21,
     "metadata": {},
     "output_type": "execute_result"
    },
    {
     "data": {
      "image/png": "[encoded data removed]",
      "text/plain": [
       "<Figure size 432x288 with 1 Axes>"
      ]
     },
     "metadata": {},
     "output_type": "display_data"
    }
   ],
   "source": [
    "# Lets plot the Adult and Survived column\n",
    "sns.countplot(x='Adult',data=train,hue='Survived')"
   ]
  },
  {
   "cell_type": "markdown",
   "metadata": {
    "papermill": {
     "duration": 0.046253,
     "end_time": "2021-06-21T07:08:34.995971",
     "exception": false,
     "start_time": "2021-06-21T07:08:34.949718",
     "status": "completed"
    },
    "tags": []
   },
   "source": [
    " **As we saw in above graphs, majority of female passengers and Upper class passengers survived. We can say that Pclass and Sex are the most important feature.**"
   ]
  },
  {
   "cell_type": "code",
   "execution_count": 22,
   "metadata": {},
   "outputs": [
    {
     "data": {
      "text/html": [
       "<div>\n",
       "<style scoped>\n",
       "    .dataframe tbody tr th:only-of-type {\n",
       "        vertical-align: middle;\n",
       "    }\n",
       "\n",
       "    .dataframe tbody tr th {\n",
       "        vertical-align: top;\n",
       "    }\n",
       "\n",
       "    .dataframe thead th {\n",
       "        text-align: right;\n",
       "    }\n",
       "</style>\n",
       "<table border=\"1\" class=\"dataframe\">\n",
       "  <thead>\n",
       "    <tr style=\"text-align: right;\">\n",
       "      <th></th>\n",
       "      <th>PassengerId</th>\n",
       "      <th>Survived</th>\n",
       "      <th>Pclass</th>\n",
       "      <th>Sex</th>\n",
       "      <th>Age</th>\n",
       "      <th>SibSp</th>\n",
       "      <th>Parch</th>\n",
       "      <th>Cabin</th>\n",
       "      <th>Embarked</th>\n",
       "      <th>Family</th>\n",
       "      <th>Adult</th>\n",
       "    </tr>\n",
       "  </thead>\n",
       "  <tbody>\n",
       "    <tr>\n",
       "      <th>0</th>\n",
       "      <td>1</td>\n",
       "      <td>0</td>\n",
       "      <td>3</td>\n",
       "      <td>male</td>\n",
       "      <td>22.0</td>\n",
       "      <td>1</td>\n",
       "      <td>0</td>\n",
       "      <td>NaN</td>\n",
       "      <td>S</td>\n",
       "      <td>With Family</td>\n",
       "      <td>male</td>\n",
       "    </tr>\n",
       "    <tr>\n",
       "      <th>1</th>\n",
       "      <td>2</td>\n",
       "      <td>1</td>\n",
       "      <td>1</td>\n",
       "      <td>female</td>\n",
       "      <td>38.0</td>\n",
       "      <td>1</td>\n",
       "      <td>0</td>\n",
       "      <td>C85</td>\n",
       "      <td>C</td>\n",
       "      <td>With Family</td>\n",
       "      <td>female</td>\n",
       "    </tr>\n",
       "    <tr>\n",
       "      <th>2</th>\n",
       "      <td>3</td>\n",
       "      <td>1</td>\n",
       "      <td>3</td>\n",
       "      <td>female</td>\n",
       "      <td>26.0</td>\n",
       "      <td>0</td>\n",
       "      <td>0</td>\n",
       "      <td>NaN</td>\n",
       "      <td>S</td>\n",
       "      <td>Alone</td>\n",
       "      <td>female</td>\n",
       "    </tr>\n",
       "    <tr>\n",
       "      <th>3</th>\n",
       "      <td>4</td>\n",
       "      <td>1</td>\n",
       "      <td>1</td>\n",
       "      <td>female</td>\n",
       "      <td>35.0</td>\n",
       "      <td>1</td>\n",
       "      <td>0</td>\n",
       "      <td>C123</td>\n",
       "      <td>S</td>\n",
       "      <td>With Family</td>\n",
       "      <td>female</td>\n",
       "    </tr>\n",
       "    <tr>\n",
       "      <th>4</th>\n",
       "      <td>5</td>\n",
       "      <td>0</td>\n",
       "      <td>3</td>\n",
       "      <td>male</td>\n",
       "      <td>35.0</td>\n",
       "      <td>0</td>\n",
       "      <td>0</td>\n",
       "      <td>NaN</td>\n",
       "      <td>S</td>\n",
       "      <td>Alone</td>\n",
       "      <td>male</td>\n",
       "    </tr>\n",
       "  </tbody>\n",
       "</table>\n",
       "</div>"
      ],
      "text/plain": [
       "   PassengerId  Survived  Pclass     Sex   Age  SibSp  Parch Cabin Embarked  \\\n",
       "0            1         0       3    male  22.0      1      0   NaN        S   \n",
       "1            2         1       1  female  38.0      1      0   C85        C   \n",
       "2            3         1       3  female  26.0      0      0   NaN        S   \n",
       "3            4         1       1  female  35.0      1      0  C123        S   \n",
       "4            5         0       3    male  35.0      0      0   NaN        S   \n",
       "\n",
       "        Family   Adult  \n",
       "0  With Family    male  \n",
       "1  With Family  female  \n",
       "2        Alone  female  \n",
       "3  With Family  female  \n",
       "4        Alone    male  "
      ]
     },
     "execution_count": 22,
     "metadata": {},
     "output_type": "execute_result"
    }
   ],
   "source": [
    "train.head()"
   ]
  },
  {
   "cell_type": "code",
   "execution_count": 24,
   "metadata": {},
   "outputs": [
    {
     "data": {
      "text/plain": [
       "0     NaN\n",
       "1     C85\n",
       "2     NaN\n",
       "3    C123\n",
       "4     NaN\n",
       "Name: Cabin, dtype: object"
      ]
     },
     "execution_count": 24,
     "metadata": {},
     "output_type": "execute_result"
    }
   ],
   "source": [
    "# Let's check the Cabin column\n",
    "train['Cabin'][:5]"
   ]
  },
  {
   "cell_type": "code",
   "execution_count": 25,
   "metadata": {},
   "outputs": [
    {
     "data": {
      "text/plain": [
       "687"
      ]
     },
     "execution_count": 25,
     "metadata": {},
     "output_type": "execute_result"
    }
   ],
   "source": [
    "# It seems there are null values present in the Cabin column.Let's check\n",
    "train['Cabin'].isnull().sum()"
   ]
  },
  {
   "cell_type": "code",
   "execution_count": 28,
   "metadata": {},
   "outputs": [
    {
     "data": {
      "text/plain": [
       "1      C85\n",
       "3     C123\n",
       "6      E46\n",
       "10      G6\n",
       "11    C103\n",
       "Name: Cabin, dtype: object"
      ]
     },
     "execution_count": 28,
     "metadata": {},
     "output_type": "execute_result"
    }
   ],
   "source": [
    "# Let's create a copy of Cabin with no null values\n",
    "cabin = train['Cabin'].dropna()\n",
    "\n",
    "cabin.head()"
   ]
  },
  {
   "cell_type": "code",
   "execution_count": 29,
   "metadata": {},
   "outputs": [],
   "source": [
    "# Let's find out how many different cabins were present like A,B C etc.\n",
    "diff_cabins= []\n",
    "\n",
    "for item in cabin:\n",
    "    diff_cabins.append(item[0])# item like C85 is a text and we can seperate C by doing item[0] where 0 is the index of C\n",
    "    \n",
    "\n",
    "# Let's create a dataframe for diff_cabins, which will help in visualization\n",
    "cabins = pd.DataFrame(diff_cabins,columns=['cabin'])\n",
    "\n",
    "# Let's sort them\n",
    "cabins = cabins.sort_values(by='cabin')"
   ]
  },
  {
   "cell_type": "code",
   "execution_count": 30,
   "metadata": {},
   "outputs": [
    {
     "data": {
      "text/plain": [
       "<AxesSubplot:xlabel='cabin', ylabel='count'>"
      ]
     },
     "execution_count": 30,
     "metadata": {},
     "output_type": "execute_result"
    },
    {
     "data": {
      "image/png": "[encoded data removed]",
      "text/plain": [
       "<Figure size 432x288 with 1 Axes>"
      ]
     },
     "metadata": {},
     "output_type": "display_data"
    }
   ],
   "source": [
    "# Let's plot now\n",
    "sns.countplot(x='cabin',data=cabins)"
   ]
  },
  {
   "cell_type": "markdown",
   "metadata": {},
   "source": [
    "**There were total 8 cabins with most of the people staying in cabin C**"
   ]
  },
  {
   "cell_type": "code",
   "execution_count": 31,
   "metadata": {},
   "outputs": [
    {
     "data": {
      "text/plain": [
       "array(['S', 'C', 'Q', nan], dtype=object)"
      ]
     },
     "execution_count": 31,
     "metadata": {},
     "output_type": "execute_result"
    }
   ],
   "source": [
    "# Let's check the embarked column. Embarked means where people boarded the ship\n",
    "# Let's first check the unique values in Embarked\n",
    "train['Embarked'].unique()"
   ]
  },
  {
   "cell_type": "code",
   "execution_count": 32,
   "metadata": {},
   "outputs": [],
   "source": [
    "# Let's drop the null values first\n",
    "train.dropna(inplace=True)"
   ]
  },
  {
   "cell_type": "code",
   "execution_count": 33,
   "metadata": {},
   "outputs": [
    {
     "data": {
      "text/plain": [
       "array(['C', 'S', 'Q'], dtype=object)"
      ]
     },
     "execution_count": 33,
     "metadata": {},
     "output_type": "execute_result"
    }
   ],
   "source": [
    "# Let's check again\n",
    "train['Embarked'].unique()"
   ]
  },
  {
   "cell_type": "markdown",
   "metadata": {},
   "source": [
    "**C = Cherbourg, Q = Queenstown, S = Southampton**"
   ]
  },
  {
   "cell_type": "code",
   "execution_count": 34,
   "metadata": {},
   "outputs": [
    {
     "data": {
      "text/plain": [
       "<AxesSubplot:xlabel='Embarked', ylabel='count'>"
      ]
     },
     "execution_count": 34,
     "metadata": {},
     "output_type": "execute_result"
    },
    {
     "data": {
      "image/png": "[encoded data removed]",
      "text/plain": [
       "<Figure size 432x288 with 1 Axes>"
      ]
     },
     "metadata": {},
     "output_type": "display_data"
    }
   ],
   "source": [
    "# Let's see how many people boarded from all three locations\n",
    "sns.countplot(x='Embarked',data=train)"
   ]
  },
  {
   "cell_type": "markdown",
   "metadata": {},
   "source": [
    "**Most of the passengers boarded from Southampton**"
   ]
  },
  {
   "cell_type": "code",
   "execution_count": 35,
   "metadata": {},
   "outputs": [
    {
     "data": {
      "text/plain": [
       "<AxesSubplot:xlabel='Embarked', ylabel='count'>"
      ]
     },
     "execution_count": 35,
     "metadata": {},
     "output_type": "execute_result"
    },
    {
     "data": {
      "image/png": "[encoded data removed]",
      "text/plain": [
       "<Figure size 432x288 with 1 Axes>"
      ]
     },
     "metadata": {},
     "output_type": "display_data"
    }
   ],
   "source": [
    "# Let's see if we can findout any relation between class of the passengers and there boarding location\n",
    "sns.countplot(x='Embarked',data=train,hue='Pclass')"
   ]
  },
  {
   "cell_type": "markdown",
   "metadata": {},
   "source": [
    "**Most of the uper class passengers boarded from Cherbourg and Southampton**"
   ]
  },
  {
   "cell_type": "markdown",
   "metadata": {},
   "source": [
    "# THANK YOU"
   ]
  },
  {
   "cell_type": "code",
   "execution_count": null,
   "metadata": {},
   "outputs": [],
   "source": []
  }
 ],
 "metadata": {
  "kernelspec": {
   "display_name": "Python 3",
   "language": "python",
   "name": "python3"
  },
  "language_info": {
   "codemirror_mode": {
    "name": "ipython",
    "version": 3
   },
   "file_extension": ".py",
   "mimetype": "text/x-python",
   "name": "python",
   "nbconvert_exporter": "python",
   "pygments_lexer": "ipython3",
   "version": "3.8.5"
  },
  "papermill": {
   "default_parameters": {},
   "duration": 24.715758,
   "end_time": "2021-06-21T07:08:45.773010",
   "environment_variables": {},
   "exception": null,
   "input_path": "__notebook__.ipynb",
   "output_path": "__notebook__.ipynb",
   "parameters": {},
   "start_time": "2021-06-21T07:08:21.057252",
   "version": "2.3.3"
  }
 },
 "nbformat": 4,
 "nbformat_minor": 5
}
